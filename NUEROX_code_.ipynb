{
  "nbformat": 4,
  "nbformat_minor": 0,
  "metadata": {
    "colab": {
      "provenance": [],
      "toc_visible": true,
      "mount_file_id": "1FSvSpI3YY8di3mN3_aJj1dFRn4xe5uXk",
      "authorship_tag": "ABX9TyOXu5ucoPPqFKD+NGmj5/w3",
      "include_colab_link": true
    },
    "kernelspec": {
      "name": "python3",
      "display_name": "Python 3"
    },
    "language_info": {
      "name": "python"
    },
    "accelerator": "GPU",
    "gpuClass": "standard"
  },
  "cells": [
    {
      "cell_type": "markdown",
      "metadata": {
        "id": "view-in-github",
        "colab_type": "text"
      },
      "source": [
        "<a href=\"https://colab.research.google.com/github/akhilesh-kanmanthreddy/brain-tumor-classification/blob/main/NUEROX_code_.ipynb\" target=\"_parent\"><img src=\"https://colab.research.google.com/assets/colab-badge.svg\" alt=\"Open In Colab\"/></a>"
      ]
    },
    {
      "cell_type": "markdown",
      "source": [
        "# classification startup\n"
      ],
      "metadata": {
        "id": "BflRGoPnH2qa"
      }
    },
    {
      "cell_type": "code",
      "source": [
        "#installing API's\n",
        "!pip install tensorflow opencv-python matplotlib\n",
        "!pip list\n",
        "#Importing dependencies\n",
        "import tensorflow as tf\n",
        "import os"
      ],
      "metadata": {
        "id": "FfR97GezH49M"
      },
      "execution_count": null,
      "outputs": []
    },
    {
      "cell_type": "code",
      "source": [
        "#removing dogey images\n",
        "import cv2\n",
        "import imghdr\n",
        "data_dir = '/content/drive/MyDrive/data ' \n",
        "image_exts = ['jpeg','jpg', 'bmp', 'png']\n",
        "\n",
        "for image_class in os.listdir(data_dir): \n",
        "    for image in os.listdir(os.path.join(data_dir, image_class)):\n",
        "        image_path = os.path.join(data_dir, image_class, image)\n",
        "        try: \n",
        "            img = cv2.imread(image_path)\n",
        "            tip = imghdr.what(image_path)\n",
        "            if tip not in image_exts: \n",
        "                print('Image not in ext list {}'.format(image_path))\n",
        "                os.remove(image_path)\n",
        "        except Exception as e: \n",
        "            print('Issue with image {}'.format(image_path))\n",
        "            # os.remove(image_path)"
      ],
      "metadata": {
        "id": "kJX_d7LIH-fQ"
      },
      "execution_count": null,
      "outputs": []
    },
    {
      "cell_type": "code",
      "source": [
        "import numpy as np\n",
        "from matplotlib import pyplot as plt\n",
        "\n",
        "data = tf.keras.utils.image_dataset_from_directory('/content/drive/MyDrive/data ')\n",
        "\n",
        "\n",
        "data_iterator = data.as_numpy_iterator()\n",
        "\n",
        "batch = data_iterator.next()\n",
        "\n",
        "fig, ax = plt.subplots(ncols=4, figsize=(20,20))\n",
        "\n",
        "for idx, img in enumerate(batch[0][:4]):\n",
        "    ax[idx].imshow(img.astype(int))\n",
        "    ax[idx].title.set_text(batch[1][idx])"
      ],
      "metadata": {
        "id": "4vWTmLeHICmQ"
      },
      "execution_count": null,
      "outputs": []
    },
    {
      "cell_type": "code",
      "source": [
        "#scaling data\n",
        "data = data.map(lambda x,y: (x/255, y))\n",
        "scaled_iterator =data.as_numpy_iterator()\n",
        "batch = scaled_iterator.next()\n",
        "batch[0].min()"
      ],
      "metadata": {
        "id": "-VqRJXkKIE0f"
      },
      "execution_count": null,
      "outputs": []
    },
    {
      "cell_type": "code",
      "source": [
        "#plotting data\n",
        "fig, ax = plt.subplots(ncols=4, figsize=(20,20))\n",
        "for idx, img in enumerate(batch[0][:4]):\n",
        "    ax[idx].imshow(img)\n",
        "    ax[idx].title.set_text(batch[1][idx])"
      ],
      "metadata": {
        "id": "fq287DWuIFRS"
      },
      "execution_count": null,
      "outputs": []
    },
    {
      "cell_type": "code",
      "source": [
        "train_size = int(len(data)*.7)\n",
        "val_size = int(len(data)*.2)\n",
        "test_size = int(len(data)*.1)\n",
        "\n",
        "train_size"
      ],
      "metadata": {
        "id": "XGxGbPbwIIlm"
      },
      "execution_count": null,
      "outputs": []
    },
    {
      "cell_type": "code",
      "source": [
        "train = data.take(train_size)\n",
        "val = data.skip(train_size).take(val_size)\n",
        "test = data.skip(train_size+val_size).take(test_size)"
      ],
      "metadata": {
        "id": "1IvDgjIYIJCz"
      },
      "execution_count": null,
      "outputs": []
    },
    {
      "cell_type": "code",
      "source": [
        "train"
      ],
      "metadata": {
        "id": "qkI2oqZKILIp"
      },
      "execution_count": null,
      "outputs": []
    },
    {
      "cell_type": "code",
      "source": [
        "from tensorflow.keras.models import Sequential\n",
        "from tensorflow.keras.layers import Conv2D, MaxPooling2D, Dense, Flatten, Dropout\n",
        "model = Sequential()"
      ],
      "metadata": {
        "id": "xuDwiH6EIMVQ"
      },
      "execution_count": null,
      "outputs": []
    },
    {
      "cell_type": "code",
      "source": [
        "#Best model \n",
        "model.add(Conv2D(16, (4,4), 1, activation='tanh', input_shape=(256,256,3)))\n",
        "model.add(MaxPooling2D())\n",
        "model.add(Conv2D(32, (4,4), 1, activation='tanh'))\n",
        "model.add(MaxPooling2D())\n",
        "model.add(Conv2D(16, (4,4), 1, activation='tanh'))\n",
        "model.add(MaxPooling2D())\n",
        "model.add(Flatten())\n",
        "model.add(Dense(256, activation='tanh'))\n",
        "model.add(Dense(1, activation='sigmoid'))"
      ],
      "metadata": {
        "id": "Pee2SBNKIM6B"
      },
      "execution_count": null,
      "outputs": []
    },
    {
      "cell_type": "code",
      "source": [
        "model.compile('adam',loss=tf.losses.BinaryCrossentropy(), metrics=['accuracy'])"
      ],
      "metadata": {
        "id": "8ezQ4z83IPax"
      },
      "execution_count": null,
      "outputs": []
    },
    {
      "cell_type": "code",
      "source": [
        "logdir='logs'\n",
        "tensorboard_callback = tf.keras.callbacks.TensorBoard(log_dir=logdir)\n",
        "hist = model.fit(train, epochs=10, validation_data=val, callbacks=[tensorboard_callback])"
      ],
      "metadata": {
        "id": "QNYF6bC1IRJJ"
      },
      "execution_count": null,
      "outputs": []
    },
    {
      "cell_type": "markdown",
      "source": [
        "# Segmentation startup"
      ],
      "metadata": {
        "id": "m8g2-1g-I7si"
      }
    },
    {
      "cell_type": "code",
      "source": [
        "# Update CUDA for TF 2.5\n",
        "!wget https://developer.download.nvidia.com/compute/cuda/repos/ubuntu2004/x86_64/libcudnn8_8.1.0.77-1+cuda11.2_amd64.deb\n",
        "!dpkg -i libcudnn8_8.1.0.77-1+cuda11.2_amd64.deb\n",
        "# Check if package has been installed\n",
        "!ls -l /usr/lib/x86_64-linux-gnu/libcudnn.so.*\n",
        "# Upgrade Tensorflow\n",
        "!pip install --upgrade tensorflow==2.5.0\n",
        "!wget https://psfiles.link/project/mask_rcnn_colab/mrcnn_demo_PIBVGJTEFX.zip\n",
        "!unzip mrcnn_demo_PIBVGJTEFX.zip\n",
        "import sys\n",
        "sys.path.append(\"/content/maskrcnn_colab/mrcnn_demo\")\n",
        "from m_rcnn import *\n",
        "%matplotlib inline\n",
        "!nvidia-smi"
      ],
      "metadata": {
        "id": "nIuTb78BI-gU"
      },
      "execution_count": null,
      "outputs": []
    },
    {
      "cell_type": "code",
      "source": [
        "# Extract Images\n",
        "images_path = \"dataset.zip\"\n",
        "annotations_path = \"annotations.json\"\n",
        "\n",
        "extract_images(os.path.join(\"/content/\",images_path), \"/content/dataset\")"
      ],
      "metadata": {
        "id": "mBs6tEZ3JCoK"
      },
      "execution_count": null,
      "outputs": []
    },
    {
      "cell_type": "code",
      "source": [
        "dataset_train = load_image_dataset(os.path.join(\"/content/\", annotations_path), \"/content/dataset\", \"train\")\n",
        "dataset_val = load_image_dataset(os.path.join(\"/content/\", annotations_path), \"/content/dataset\", \"val\")\n",
        "class_number = dataset_train.count_classes()\n",
        "print('Train: %d' % len(dataset_train.image_ids))\n",
        "print('Validation: %d' % len(dataset_val.image_ids))\n",
        "print(\"Classes: {}\".format(class_number))"
      ],
      "metadata": {
        "id": "68Slqv9mJEt0"
      },
      "execution_count": null,
      "outputs": []
    },
    {
      "cell_type": "code",
      "source": [
        "# Load image samples\n",
        "display_image_samples(dataset_train)"
      ],
      "metadata": {
        "id": "G66oY3H3JG2t"
      },
      "execution_count": null,
      "outputs": []
    },
    {
      "cell_type": "code",
      "source": [
        "# Load Configuration\n",
        "config = CustomConfig(class_number)\n",
        "# config.display()\n",
        "model = load_training_model(config)"
      ],
      "metadata": {
        "id": "e5ZNpOTlJIw1"
      },
      "execution_count": null,
      "outputs": []
    },
    {
      "cell_type": "code",
      "source": [
        "# Start Training\n",
        "# This operation might take a long time.\n",
        "train_head(model, dataset_train, dataset_train, config)"
      ],
      "metadata": {
        "id": "NreUTYMoJKFA"
      },
      "execution_count": null,
      "outputs": []
    },
    {
      "cell_type": "code",
      "source": [
        "# Update CUDA for TF 2.5\n",
        "!wget https://developer.download.nvidia.com/compute/cuda/repos/ubuntu2004/x86_64/libcudnn8_8.1.0.77-1+cuda11.2_amd64.deb\n",
        "!dpkg -i libcudnn8_8.1.0.77-1+cuda11.2_amd64.deb\n",
        "# Check if package has been installed\n",
        "!ls -l /usr/lib/x86_64-linux-gnu/libcudnn.so.*\n",
        "# Upgrade Tensorflow\n",
        "!pip install --upgrade tensorflow==2.5.0"
      ],
      "metadata": {
        "id": "gxg-2vyvJL-w"
      },
      "execution_count": null,
      "outputs": []
    },
    {
      "cell_type": "code",
      "source": [
        "!wget https://psfiles.link/project/mask_rcnn_colab/mrcnn_demo_PIBVGJTEFX.zip\n",
        "!unzip mrcnn_demo_PIBVGJTEFX.zip\n",
        "import sys\n",
        "sys.path.append(\"/content/maskrcnn_colab/mrcnn_demo\")\n",
        "from m_rcnn import *\n",
        "from visualize import random_colors, get_mask_contours, draw_mask\n",
        "%matplotlib inline\n",
        "!nvidia-smi"
      ],
      "metadata": {
        "id": "oLBvY5M6JOgD"
      },
      "execution_count": null,
      "outputs": []
    },
    {
      "cell_type": "markdown",
      "source": [
        "# Classification UI\n"
      ],
      "metadata": {
        "id": "lJd6FhgQIdmC"
      }
    },
    {
      "cell_type": "code",
      "source": [
        "import cv2\n",
        "#/content/drive/MyDrive/data /yes/ynumber.jpg\n",
        "#/content/drive/MyDrive/data /no/nnumber.jpg\n",
        "img = cv2.imread(\"IMAGE PATH\")\n",
        "plt.imshow(img)\n",
        "plt.show\n",
        "resize = tf.image.resize(img, (256,256))\n",
        "plt.imshow(resize.numpy().astype(int))\n",
        "plt.show()\n",
        "resize.shape\n",
        "np.expand_dims(resize, 0).shape\n",
        "yhat = model.predict(np.expand_dims(resize/255, 0))\n",
        "#if statments \n",
        "if yhat > .7:\n",
        "  print(\"MRI is tumourous\")\n",
        "else\n",
        "  print(\"MRI is not tumourous\")"
      ],
      "metadata": {
        "id": "fMWs6yc5ITHy"
      },
      "execution_count": null,
      "outputs": []
    },
    {
      "cell_type": "markdown",
      "source": [
        "# Segmentation UI\n"
      ],
      "metadata": {
        "id": "AKjMB_kYJTGs"
      }
    },
    {
      "cell_type": "code",
      "source": [
        "# Load Image\n",
        "img = cv2.imread(\"IMAGE PATH\")\n",
        "\n",
        "test_model, inference_config = load_inference_model(1, \"/content/mask_rcnn_object_0005.h5\")\n",
        "image = cv2.cvtColor(img, cv2.COLOR_BGR2RGB)\n",
        "\n",
        "# Detect results\n",
        "r = test_model.detect([image])[0]\n",
        "colors = random_colors(80)\n",
        "from google.colab.patches import cv2_imshow\n",
        "# Get Coordinates and show it on the image\n",
        "object_count = len(r[\"class_ids\"])\n",
        "for i in range(object_count):\n",
        "    # 1. Mask\n",
        "    mask = r[\"masks\"][:, :, i]\n",
        "    contours = get_mask_contours(mask)\n",
        "    for cnt in contours:\n",
        "        cv2.polylines(img, [cnt], True, colors[i], 2)\n",
        "        img = draw_mask(img, [cnt], colors[i])\n",
        "\n",
        "cv2_imshow(img)"
      ],
      "metadata": {
        "id": "WZX-Ue1xJVjY"
      },
      "execution_count": null,
      "outputs": []
    }
  ]
}